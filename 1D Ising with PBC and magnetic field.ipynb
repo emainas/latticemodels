{
 "cells": [
  {
   "cell_type": "code",
   "execution_count": 125,
   "metadata": {},
   "outputs": [],
   "source": [
    "import numpy as np\n",
    "import matplotlib.pyplot as plt\n",
    "import scipy.integrate as integrate"
   ]
  },
  {
   "cell_type": "code",
   "execution_count": 68,
   "metadata": {},
   "outputs": [],
   "source": [
    "N = 100"
   ]
  },
  {
   "cell_type": "code",
   "execution_count": 69,
   "metadata": {},
   "outputs": [],
   "source": [
    "init_random = np.random.random(N) #Gives a random number from 0.0 to 1.0 open\n",
    "lattice_n = np.zeros(N)\n",
    "lattice_n[init_random >= 0.50] = 1\n",
    "lattice_n[init_random < 0.50] = -1"
   ]
  },
  {
   "cell_type": "code",
   "execution_count": 70,
   "metadata": {},
   "outputs": [],
   "source": [
    "def fieldEnergy_Ising1d(s, h, beta):\n",
    "    \n",
    "    n = np.size(s)\n",
    "    \n",
    "    J = 1\n",
    "    B = h/beta # Field in units of energy, h is the dimensionless LDT parameter\n",
    "    \n",
    "    E = 0.0\n",
    "    \n",
    "    for j in range(n-1):\n",
    "        E -= J*s[j]*s[j+1]\n",
    "        \n",
    "    E -= J*s[0]*s[n-1] # Correction for PBC\n",
    "    E -= B*s.sum() # Include the external field\n",
    "    return E "
   ]
  },
  {
   "cell_type": "code",
   "execution_count": 71,
   "metadata": {},
   "outputs": [
    {
     "data": {
      "text/plain": [
       "-800.0"
      ]
     },
     "execution_count": 71,
     "metadata": {},
     "output_type": "execute_result"
    }
   ],
   "source": [
    "fieldEnergy_Ising1d(lattice_n, 10, 0.1)"
   ]
  },
  {
   "cell_type": "code",
   "execution_count": 72,
   "metadata": {},
   "outputs": [],
   "source": [
    "def fieldmetr(spin_arr, steps, beta, energy, h):\n",
    "    spin_arr = spin_arr.copy()\n",
    "    net_spins = np.zeros(steps-1)\n",
    "    net_energy = np.zeros(steps-1)\n",
    "    J = 1 # Spin-Spin interaction\n",
    "    for t in range(0,steps-1):\n",
    "        x = np.random.randint(N)\n",
    "        spin_i = spin_arr[x] #Initial spin\n",
    "        spin_f = spin_i*(-1) #Proposed spin flip\n",
    "        \n",
    "        B = h/beta # Field in units of energy, h is the dimensionless LDT parameter\n",
    "        \n",
    "        #Compute change in energy\n",
    "        E_i = 0\n",
    "        E_f = 0\n",
    "        \n",
    "        E_i += - J*spin_i*spin_arr[x-1] - J*spin_i*spin_arr[(x+1)%N] - B*spin_i\n",
    "        E_f += - J*spin_f*spin_arr[x-1] - J*spin_f*spin_arr[(x+1)%N] - B*spin_f\n",
    "        \n",
    "        \n",
    "        dE = E_f - E_i\n",
    "        if (dE>0) and (np.random.random()<np.exp(-beta*dE)):\n",
    "            spin_arr[x]=spin_f\n",
    "            energy += dE\n",
    "        elif dE<=0:\n",
    "            spin_arr[x]=spin_f\n",
    "            energy += dE\n",
    "            \n",
    "        net_spins[t] = spin_arr.sum()\n",
    "        net_energy[t] = energy\n",
    "    \n",
    "    return net_spins, net_energy"
   ]
  },
  {
   "cell_type": "code",
   "execution_count": 118,
   "metadata": {},
   "outputs": [],
   "source": [
    "mnew = []\n",
    "mu = []\n",
    "gamma = []\n",
    "\n",
    "for i in range(0, 4000, 1):\n",
    "    \n",
    "    h = -i/100 + 20 # Intensity of the field\n",
    "    gamma.append(h)\n",
    "    \n",
    "    spins, energies = fieldmetr(lattice_n, 100000, 0.1, fieldEnergy_Ising1d(lattice_n, h, 0.1), h)\n",
    "    \n",
    "    m = spins/N\n",
    "    mnew = m[-50000:]\n",
    "    av = np.mean(mnew)\n",
    "    mu.append(av)   "
   ]
  },
  {
   "cell_type": "code",
   "execution_count": 119,
   "metadata": {},
   "outputs": [
    {
     "data": {
      "image/png": "[encoded data removed]",
      "text/plain": [
       "<Figure size 432x288 with 1 Axes>"
      ]
     },
     "metadata": {},
     "output_type": "display_data"
    }
   ],
   "source": [
    "xn = np.arange(-40, 40, 0.1)\n",
    "N = 100\n",
    "bJ = 0.1\n",
    "\n",
    "def cos2theta(x):\n",
    "    return (np.exp(2*bJ) * np.sinh(x) ) / (np.sqrt(1 + np.exp(4*bJ)*np.sinh(x)*np.sinh(x)))\n",
    "def lp(x):\n",
    "    return np.exp(bJ)*np.cosh(x) + np.sqrt(np.exp(2*bJ)*np.cosh(x)*np.cosh(x) - 2*np.sinh(2*bJ))\n",
    "def lm(x):\n",
    "    return np.exp(bJ)*np.cosh(x) - np.sqrt(np.exp(2*bJ)*np.cosh(x)*np.cosh(x) - 2*np.sinh(2*bJ))\n",
    "\n",
    "def eos(x):\n",
    "    return cos2theta(x)*((lp(x)**N - lm(x)**N)/(lp(x)**N + lm(x)**N))\n",
    "\n",
    "plt.plot(xn, cos2theta(xn), color='red', lw=5, label='Exact answer')\n",
    "plt.scatter(gamma, mu, color='blue', s=50, label='Simulation')\n",
    "plt.plot(xn, 0*xn, color='black', lw=2)\n",
    "plt.vlines(0, -2, 2, color='black', lw=2)\n",
    "\n",
    "\n",
    "plt.xlim(-20, 20)\n",
    "plt.ylim(-2, 2)\n",
    "plt.xlabel(r'$\\gamma$', fontsize='25')\n",
    "plt.ylabel(r'$\\mu(\\gamma)$', fontsize='25')\n",
    "plt.tick_params(labelsize=20)\n",
    "plt.title(r'$N=100$, $\\beta J = 0.1$', fontsize= 15, fontweight='bold')\n",
    "plt.legend(loc='upper left')\n",
    "#plt.savefig('/Users/κωτς/Desktop/image6.pdf', transparent=True, bbox_inches='tight')\n",
    "plt.show()"
   ]
  },
  {
   "cell_type": "code",
   "execution_count": 120,
   "metadata": {},
   "outputs": [
    {
     "name": "stderr",
     "output_type": "stream",
     "text": [
      "C:\\ProgramData\\Anaconda3\\lib\\site-packages\\ipykernel_launcher.py:4: RuntimeWarning: invalid value encountered in sqrt\n",
      "  after removing the cwd from sys.path.\n"
     ]
    },
    {
     "data": {
      "image/png": "[encoded data removed]",
      "text/plain": [
       "<Figure size 432x288 with 1 Axes>"
      ]
     },
     "metadata": {},
     "output_type": "display_data"
    }
   ],
   "source": [
    "xn = np.arange(-50, 50, 0.001)\n",
    "\n",
    "def reverseEos(x):\n",
    "    return np.log( (x*np.exp(-2*bJ) + np.sqrt(1 - x*x*(1 - np.exp(-4*bJ))) )/(np.sqrt(1-x*x)))\n",
    "\n",
    "plt.scatter(mu, gamma, color='blue', s=50, label='Simulation')\n",
    "plt.plot(xn, reverseEos(xn), color='red', lw=5, label='Exact answer')\n",
    "plt.plot(xn, 0*xn, color='black', lw=2)\n",
    "plt.vlines(0, -20, 20, color='black', lw=2)\n",
    "\n",
    "plt.xlim(-1.5, 1.5)\n",
    "plt.ylim(-20, 20)\n",
    "plt.xlabel(r'$\\mu$', fontsize='25')\n",
    "plt.ylabel(r'$\\gamma(\\mu)$', fontsize='25')\n",
    "plt.tick_params(labelsize=20)\n",
    "plt.title(r'$N=100$, $\\beta J = 0.1$', fontsize= 15, fontweight='bold')\n",
    "plt.legend(loc='upper left')\n",
    "#plt.savefig('/Users/κωτς/Desktop/image6.pdf', transparent=True, bbox_inches='tight')\n",
    "plt.show()"
   ]
  },
  {
   "cell_type": "code",
   "execution_count": 121,
   "metadata": {},
   "outputs": [],
   "source": [
    "I = []\n",
    "r = len(mu)\n",
    "temp = 0.0\n",
    "for i in range(r-1):\n",
    "    temp += (gamma[i] + gamma[i+1])*(mu[i+1] - mu[i])/2\n",
    "    I.append(temp)"
   ]
  },
  {
   "cell_type": "code",
   "execution_count": 155,
   "metadata": {},
   "outputs": [
    {
     "name": "stderr",
     "output_type": "stream",
     "text": [
      "C:\\ProgramData\\Anaconda3\\lib\\site-packages\\ipykernel_launcher.py:4: RuntimeWarning: invalid value encountered in sqrt\n",
      "  after removing the cwd from sys.path.\n",
      "C:\\ProgramData\\Anaconda3\\lib\\site-packages\\ipykernel_launcher.py:8: RuntimeWarning: invalid value encountered in sqrt\n",
      "  \n",
      "C:\\ProgramData\\Anaconda3\\lib\\site-packages\\ipykernel_launcher.py:44: RuntimeWarning: divide by zero encountered in log\n"
     ]
    },
    {
     "data": {
      "image/png": "[encoded data removed]",
      "text/plain": [
       "<Figure size 432x288 with 1 Axes>"
      ]
     },
     "metadata": {},
     "output_type": "display_data"
    }
   ],
   "source": [
    "xn = np.arange(-50, 50, 0.001)\n",
    "muprime = mu[:-1]\n",
    "N = 100\n",
    "\n",
    "# Exact answer\n",
    "\n",
    "def lam(x):\n",
    "    return np.log((np.sqrt(np.exp(2*bJ)*(1-x*x) + np.exp(-2*bJ)*x*x) + np.exp(-bJ))  /  (2*np.cosh(bJ)*np.sqrt(1-x*x)))\n",
    "def rate(x):\n",
    "    return x*reverseEos(x) - lam(x)\n",
    "def prob(x):\n",
    "    return np.exp(-N*rate(x))\n",
    "a = integrate.quad(lambda x: prob(x), -1, 1, full_output=1)[0]\n",
    "def normprob(x):\n",
    "    return (1/a)*prob(x)\n",
    "\n",
    "# Central limit theorem\n",
    "\n",
    "def gamma2(x):\n",
    "    return np.exp(-2*bJ)*x\n",
    "def lam2(x):\n",
    "    return (1/2)*np.exp(-2*bJ)*x*x\n",
    "def rate2(x):\n",
    "    return x*gamma2(x) - lam2(x)\n",
    "def prob2(x):\n",
    "    return np.exp(-N*rate2(x))\n",
    "b = integrate.quad(lambda x: prob2(x), -1, 1, full_output=1)[0]\n",
    "def normprob2(x):\n",
    "    return (1/b)*prob2(x)\n",
    "\n",
    "# γ-ensemble LDT approach\n",
    "\n",
    "Inew = N*np.negative(I)\n",
    "P = np.exp(Inew)\n",
    "\n",
    "C = np.trapz(muprime, P)\n",
    "Pnorm = (1/C) * P\n",
    "Ieff= (-1/N)*np.log(Pnorm)\n",
    "\n",
    "# Plotting \n",
    "\n",
    "plt.scatter(muprime, Ieff, color='blue', s=50, label=r'$\\gamma$ - ensemble simulation')\n",
    "plt.plot(xn, -(1/N)*np.log(normprob(xn)), lw=5, color='red', label='Exact analytical rate')\n",
    "plt.plot(xn, -(1/N)*np.log(normprob2(xn)), lw=5, color='black', label='Central limit theorem')\n",
    "\n",
    "plt.plot(xn, 0*xn, color='black', lw=2)\n",
    "plt.vlines(0, -0.05, 0.6, color='black', lw=2)\n",
    "\n",
    "plt.xlim(0, 1.3)\n",
    "plt.ylim(-0.05, 0.58)\n",
    "plt.xlabel(r'$\\mu$', fontsize='25')\n",
    "plt.ylabel(r'$I_{eff}(\\mu)$', fontsize='25')\n",
    "plt.tick_params(labelsize=20)\n",
    "plt.title(r'$N=100$, $\\beta J = 0.1$', fontsize= 15, fontweight='bold')\n",
    "plt.legend(loc='upper left')\n",
    "plt.savefig('/Users/κωτς/Desktop/1dising-ratescomparison.pdf', transparent=True, bbox_inches='tight')\n",
    "#plt.show()"
   ]
  },
  {
   "cell_type": "code",
   "execution_count": null,
   "metadata": {},
   "outputs": [],
   "source": []
  }
 ],
 "metadata": {
  "kernelspec": {
   "display_name": "Python 3 (ipykernel)",
   "language": "python",
   "name": "python3"
  },
  "language_info": {
   "codemirror_mode": {
    "name": "ipython",
    "version": 3
   },
   "file_extension": ".py",
   "mimetype": "text/x-python",
   "name": "python",
   "nbconvert_exporter": "python",
   "pygments_lexer": "ipython3",
   "version": "3.11.6"
  }
 },
 "nbformat": 4,
 "nbformat_minor": 4
}
