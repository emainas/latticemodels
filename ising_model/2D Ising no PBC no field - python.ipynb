{
 "cells": [
  {
   "cell_type": "code",
   "execution_count": 31,
   "metadata": {},
   "outputs": [],
   "source": [
    "import numpy as np\n",
    "import matplotlib.pyplot as plt\n",
    "import numba\n",
    "from numba import njit"
   ]
  },
  {
   "cell_type": "code",
   "execution_count": 35,
   "metadata": {},
   "outputs": [],
   "source": [
    "N = 3 # 100x100 2D lattice, #of particles=10000"
   ]
  },
  {
   "cell_type": "code",
   "execution_count": 40,
   "metadata": {},
   "outputs": [],
   "source": [
    "init_random = np.random.random((N,N)) #Gives a random number from 0.0 to 1.0 open\n",
    "lattice_n = np.zeros((N,N))\n",
    "lattice_n[init_random>=0.75] = 1\n",
    "lattice_n[init_random<0.75] = -1\n",
    "\n",
    "init_random = np.random.random((N,N)) #Gives a random number from 0.0 to 1.0 open\n",
    "lattice_p = np.zeros((N,N))\n",
    "lattice_p[init_random>=0.25] = 1\n",
    "lattice_p[init_random<0.25] = -1"
   ]
  },
  {
   "cell_type": "code",
   "execution_count": 41,
   "metadata": {},
   "outputs": [
    {
     "data": {
      "text/plain": [
       "<matplotlib.image.AxesImage at 0x286467657f0>"
      ]
     },
     "execution_count": 41,
     "metadata": {},
     "output_type": "execute_result"
    },
    {
     "data": {
      "image/png": "[encoded data removed]",
      "text/plain": [
       "<Figure size 432x288 with 1 Axes>"
      ]
     },
     "metadata": {},
     "output_type": "display_data"
    }
   ],
   "source": [
    "plt.imshow(lattice_n, cmap='gray')"
   ]
  },
  {
   "cell_type": "code",
   "execution_count": 65,
   "metadata": {},
   "outputs": [],
   "source": [
    "def totalEnergy(s, h, beta):\n",
    "    \n",
    "    n, m = np.shape(s)\n",
    "    J = 1\n",
    "    B = h/beta # Field in units of energy, h is the dimensionless LDT parameter\n",
    "    \n",
    "    E = 0.0\n",
    "        \n",
    "    for j in range(n):\n",
    "        for i in range(m-1):\n",
    "            E -= J*s[i,j]*s[i+1,j]\n",
    "    \n",
    "    for j in range(n): \n",
    "        E -= J*s[m-1,j]*s[0,j]\n",
    "    \n",
    "    for j in range(n-1):\n",
    "        for i in range(m):\n",
    "            E -= J*s[i,j]*s[i,j+1] \n",
    "\n",
    "    for i in range(m):\n",
    "        E -= J*s[i,m-1]*s[i,0] \n",
    "        \n",
    "    E -= B*s.sum() # Include the external field\n",
    "    \n",
    "    return E "
   ]
  },
  {
   "cell_type": "code",
   "execution_count": 66,
   "metadata": {},
   "outputs": [
    {
     "data": {
      "text/plain": [
       "-18.0"
      ]
     },
     "execution_count": 66,
     "metadata": {},
     "output_type": "execute_result"
    }
   ],
   "source": [
    "totalEnergy(lattice_n, 0, 0.1)"
   ]
  },
  {
   "cell_type": "code",
   "execution_count": 67,
   "metadata": {},
   "outputs": [
    {
     "name": "stderr",
     "output_type": "stream",
     "text": [
      "C:\\ProgramData\\Anaconda3\\lib\\site-packages\\numba\\decorators.py:232: RuntimeWarning: nopython is set for njit and is ignored\n",
      "  warnings.warn('nopython is set for njit and is ignored', RuntimeWarning)\n"
     ]
    }
   ],
   "source": [
    "@numba.njit(\"UniTuple(f8[:],2)(f8[:,:], i8, f8, f8)\", nopython=True, nogil=True)\n",
    "def metropolis(spin_arr, times, BJ, energy):\n",
    "    spin_arr = spin_arr.copy()\n",
    "    net_spins = np.zeros(times-1)\n",
    "    net_energy = np.zeros(times-1)\n",
    "    for t in range(0,times-1):\n",
    "        x = np.random.randint(0,N)\n",
    "        y = np.random.randint(0,N)\n",
    "        spin_i = spin_arr[x,y] #Initial spin\n",
    "        spin_f = spin_i*(-1) #Proposed spin flip\n",
    "        \n",
    "        #Compute change in energy\n",
    "        E_i = 0\n",
    "        E_f = 0\n",
    "        \n",
    "        if x>0:\n",
    "            E_i += -spin_i*spin_arr[x-1,y]\n",
    "            E_f += -spin_f*spin_arr[x-1,y]\n",
    "        if x<N-1:\n",
    "            E_i += -spin_i*spin_arr[x+1,y]\n",
    "            E_f += -spin_f*spin_arr[x+1,y]\n",
    "        if y>0:\n",
    "            E_i += -spin_i*spin_arr[x,y-1]\n",
    "            E_f += -spin_f*spin_arr[x,y-1]\n",
    "        if y<N-1:\n",
    "            E_i += -spin_i*spin_arr[x,y+1]\n",
    "            E_f += -spin_f*spin_arr[x,y+1]\n",
    "            \n",
    "        dE = E_f - E_i\n",
    "        if (dE>0) and (np.random.random()<np.exp(-BJ*dE)):\n",
    "            spin_arr[x,y]=spin_f\n",
    "            energy += dE\n",
    "        elif dE<=0:\n",
    "            spin_arr[x,y]=spin_f\n",
    "            energy += dE\n",
    "            \n",
    "        net_spins[t] = spin_arr.sum()\n",
    "        net_energy[t] = energy\n",
    "        \n",
    "    return net_spins, net_energy"
   ]
  },
  {
   "cell_type": "code",
   "execution_count": 71,
   "metadata": {},
   "outputs": [],
   "source": [
    "spins, energies = metropolis(lattice_n, 500000, 0.1 , totalEnergy(lattice_n, 0, 0.1))"
   ]
  },
  {
   "cell_type": "code",
   "execution_count": 72,
   "metadata": {},
   "outputs": [],
   "source": [
    "m = spins/(N*N)"
   ]
  },
  {
   "cell_type": "code",
   "execution_count": 73,
   "metadata": {},
   "outputs": [
    {
     "name": "stdout",
     "output_type": "stream",
     "text": [
      "[-1.         -1.         -1.         ...  0.11111111 -0.11111111\n",
      "  0.11111111]\n"
     ]
    }
   ],
   "source": [
    "print(m)"
   ]
  },
  {
   "cell_type": "code",
   "execution_count": null,
   "metadata": {},
   "outputs": [],
   "source": []
  }
 ],
 "metadata": {
  "kernelspec": {
   "display_name": "Python 3",
   "language": "python",
   "name": "python3"
  },
  "language_info": {
   "codemirror_mode": {
    "name": "ipython",
    "version": 3
   },
   "file_extension": ".py",
   "mimetype": "text/x-python",
   "name": "python",
   "nbconvert_exporter": "python",
   "pygments_lexer": "ipython3",
   "version": "3.6.5"
  }
 },
 "nbformat": 4,
 "nbformat_minor": 2
}
