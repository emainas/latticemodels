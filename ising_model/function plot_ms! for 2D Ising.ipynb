{
 "cells": [
  {
   "cell_type": "code",
   "execution_count": null,
   "metadata": {},
   "outputs": [],
   "source": [
    "function plot_ms!(plt, ms, m_stds)\n",
    "    plot!(plt, onsager, 0.01:0.00001:(2 / log(1 + √2)), label = \"Onsager Solution\", linewidth = 2)\n",
    "    xs = 1 ./ BJs\n",
    "    plot!(\n",
    "        plt, xs, ms, \n",
    "        yerror = m_stds, \n",
    "        linestyle = :dash, label = \"ms\",\n",
    "        markershape = :circle, markersize = 10\n",
    "    )\n",
    "    plot!(plt, _ -> 0, 0:10, label = nothing, color = :black)\n",
    "    plot!(plt,\n",
    "        xlabel = raw\"$\\frac{k_B}{J} T$\",\n",
    "        ylabel = raw\"$\\frac{M}{N}$\",\n",
    "        labelfontsize = 20,\n",
    "        tickfontsize = 15,\n",
    "        legendfontsize = 16,\n",
    "        grid = false\n",
    "    )\n",
    "    plt\n",
    "end\n",
    "plot_ms(ms, m_stds) = plot_ms!(plot(), ms, m_stds)"
   ]
  }
 ],
 "metadata": {
  "kernelspec": {
   "display_name": "Julia 1.7.2",
   "language": "julia",
   "name": "julia-1.7"
  },
  "language_info": {
   "file_extension": ".jl",
   "mimetype": "application/julia",
   "name": "julia",
   "version": "1.7.2"
  }
 },
 "nbformat": 4,
 "nbformat_minor": 2
}
