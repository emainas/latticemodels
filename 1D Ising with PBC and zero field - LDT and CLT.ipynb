{
 "cells": [
  {
   "cell_type": "code",
   "execution_count": 1,
   "metadata": {},
   "outputs": [],
   "source": [
    "import numpy as np\n",
    "import matplotlib.pyplot as plt"
   ]
  },
  {
   "cell_type": "code",
   "execution_count": 67,
   "metadata": {},
   "outputs": [],
   "source": [
    "N = 100"
   ]
  },
  {
   "cell_type": "code",
   "execution_count": 68,
   "metadata": {},
   "outputs": [],
   "source": [
    "init_random = np.random.random(N) #Gives a random number from 0.0 to 1.0 open\n",
    "lattice_n = np.zeros(N)\n",
    "lattice_n[init_random >= 0.50] = 1\n",
    "lattice_n[init_random < 0.50] = -1"
   ]
  },
  {
   "cell_type": "code",
   "execution_count": 69,
   "metadata": {},
   "outputs": [],
   "source": [
    "#print(lattice_n)"
   ]
  },
  {
   "cell_type": "code",
   "execution_count": 70,
   "metadata": {},
   "outputs": [],
   "source": [
    "def Energy_Ising1d(s):\n",
    "    \n",
    "    n = np.size(s)\n",
    "    \n",
    "    E = 0.0\n",
    "    \n",
    "    for j in range(n-1):\n",
    "        E -= s[j]*s[j+1]\n",
    "        \n",
    "    E -= s[0]*s[n-1] # Correction for PBC\n",
    "    return E "
   ]
  },
  {
   "cell_type": "code",
   "execution_count": 71,
   "metadata": {},
   "outputs": [
    {
     "data": {
      "text/plain": [
       "0.0"
      ]
     },
     "execution_count": 71,
     "metadata": {},
     "output_type": "execute_result"
    }
   ],
   "source": [
    "Energy_Ising1d(lattice_n)"
   ]
  },
  {
   "cell_type": "code",
   "execution_count": 49,
   "metadata": {},
   "outputs": [],
   "source": [
    "def metropolis(spin_arr, steps, BJ, energy):\n",
    "    spin_arr = spin_arr.copy()\n",
    "    net_spins = np.zeros(steps-1)\n",
    "    net_energy = np.zeros(steps-1)\n",
    "    for t in range(0,steps-1):\n",
    "        x = np.random.randint(N)\n",
    "        spin_i = spin_arr[x] #Initial spin\n",
    "        spin_f = spin_i*(-1) #Proposed spin flip\n",
    "        \n",
    "        #h = 1\n",
    "        \n",
    "        #Compute change in energy\n",
    "        E_i = 0\n",
    "        E_f = 0\n",
    "        \n",
    "        E_i += - spin_i*spin_arr[x-1] - spin_i*spin_arr[(x+1)%N] #- h*spin_i\n",
    "        E_f += - spin_f*spin_arr[x-1] - spin_f*spin_arr[(x+1)%N] #- h*spin_f\n",
    "        \n",
    "        \n",
    "        dE = E_f - E_i\n",
    "        if (dE>0) and (np.random.random()<np.exp(-BJ*dE)):\n",
    "            spin_arr[x]=spin_f\n",
    "            energy += dE\n",
    "        elif dE<=0:\n",
    "            spin_arr[x]=spin_f\n",
    "            energy += dE\n",
    "            \n",
    "        net_spins[t] = spin_arr.sum()\n",
    "        net_energy[t] = energy\n",
    "        \n",
    "    return net_spins, net_energy"
   ]
  },
  {
   "cell_type": "code",
   "execution_count": 14,
   "metadata": {},
   "outputs": [],
   "source": [
    "spins, energies = metropolis(lattice_n, 100000000, 0.9, Energy_Ising1d(lattice_n))"
   ]
  },
  {
   "cell_type": "code",
   "execution_count": 15,
   "metadata": {},
   "outputs": [
    {
     "data": {
      "image/png": "[encoded data removed]",
      "text/plain": [
       "<Figure size 432x288 with 1 Axes>"
      ]
     },
     "metadata": {},
     "output_type": "display_data"
    }
   ],
   "source": [
    "m = spins/N\n",
    "plt.plot(m, lw=3, color='blue')\n",
    "#plt.xlim(0,1000)\n",
    "plt.ylim(-1,1)\n",
    "plt.xlabel('MC steps', fontsize='25')\n",
    "plt.ylabel('m', fontsize='25')\n",
    "plt.tick_params(labelsize=20)\n",
    "plt.title('1D Ising Model', fontsize= 15, fontweight='bold')\n",
    "#plt.legend(loc='upper right', prop={'size': 20})\n",
    "plt.show()"
   ]
  },
  {
   "cell_type": "code",
   "execution_count": 16,
   "metadata": {},
   "outputs": [
    {
     "name": "stdout",
     "output_type": "stream",
     "text": [
      "0.6165015450971221\n",
      "0.6023969652618788\n"
     ]
    }
   ],
   "source": [
    "import scipy.integrate as integrate\n",
    "import scipy\n",
    "import scipy.special as special \n",
    "\n",
    "# Large Deviation Theory Equations\n",
    "bJ = 0.9\n",
    "a1 = np.exp(2*bJ)\n",
    "a2 = np.exp(-2*bJ)\n",
    "a3 = np.exp(-bJ)\n",
    "\n",
    "def gamma(x):\n",
    "    return np.log( (x*np.exp(-2*bJ) + np.sqrt(1 - x*x*(1 - np.exp(-4*bJ))) )/(np.sqrt(1-x*x)))\n",
    "def lam(x):\n",
    "    return np.log((np.sqrt(a1*(1-x*x) + a2*x*x) + a3)  /  (2*np.cosh(bJ)*np.sqrt(1-x*x)))\n",
    "def rate(x):\n",
    "    return x*gamma(x) - lam(x)\n",
    "def prob(x):\n",
    "    return np.exp(-N*rate(x))\n",
    "a = integrate.quad(lambda x: prob(x), -1, 1, full_output=1)[0]\n",
    "def normprob(x):\n",
    "    return (1/a)*prob(x)\n",
    "\n",
    "# Central Limit Theorem equations\n",
    "\n",
    "def gamma2(x):\n",
    "    return a2*x\n",
    "def lam2(x):\n",
    "    return (1/2)*a2*x*x\n",
    "def rate2(x):\n",
    "    return x*gamma2(x) - lam2(x)\n",
    "def prob2(x):\n",
    "    return np.exp(-N*rate2(x))\n",
    "b = integrate.quad(lambda x: prob2(x), -1, 1, full_output=1)[0]\n",
    "def normprob2(x):\n",
    "    return (1/b)*prob2(x)\n",
    "\n",
    "print(b)\n",
    "\n",
    "print(a)"
   ]
  },
  {
   "cell_type": "code",
   "execution_count": 43,
   "metadata": {},
   "outputs": [
    {
     "name": "stderr",
     "output_type": "stream",
     "text": [
      "C:\\ProgramData\\Anaconda3\\lib\\site-packages\\ipykernel_launcher.py:6: RuntimeWarning: divide by zero encountered in log\n",
      "  \n",
      "C:\\ProgramData\\Anaconda3\\lib\\site-packages\\ipykernel_launcher.py:12: RuntimeWarning: invalid value encountered in sqrt\n",
      "  if sys.path[0] == '':\n",
      "C:\\ProgramData\\Anaconda3\\lib\\site-packages\\ipykernel_launcher.py:12: RuntimeWarning: divide by zero encountered in true_divide\n",
      "  if sys.path[0] == '':\n",
      "C:\\ProgramData\\Anaconda3\\lib\\site-packages\\ipykernel_launcher.py:12: RuntimeWarning: invalid value encountered in log\n",
      "  if sys.path[0] == '':\n",
      "C:\\ProgramData\\Anaconda3\\lib\\site-packages\\ipykernel_launcher.py:14: RuntimeWarning: invalid value encountered in sqrt\n",
      "  \n",
      "C:\\ProgramData\\Anaconda3\\lib\\site-packages\\ipykernel_launcher.py:14: RuntimeWarning: divide by zero encountered in true_divide\n",
      "  \n"
     ]
    },
    {
     "data": {
      "image/png": "[encoded data removed]",
      "text/plain": [
       "<Figure size 432x288 with 1 Axes>"
      ]
     },
     "metadata": {},
     "output_type": "display_data"
    }
   ],
   "source": [
    "k = 101\n",
    "meq = m[20000000:]\n",
    "n, bins, patches = plt.hist(meq, bins=k, align='left', density=True)\n",
    "plt.clf()\n",
    "t = np.arange(bins[0], bins[k], (bins[k]-bins[0])/k)\n",
    "simrate = -(1/N)*np.log(n)\n",
    "\n",
    "#plt.scatter(t, n, color='red', s=50, marker='+', label='MC Simulation')\n",
    "plt.scatter(t, simrate, color='red', s=50, marker='+', label='MC Simulation')\n",
    "\n",
    "mu = np.arange(-1,1.11,0.01)\n",
    "#plt.plot(mu, normprob(mu), lw=3, color='blue', label='LDT')\n",
    "#plt.plot(mu, normprob2(mu), lw=3, color='black', label='CLT')\n",
    "\n",
    "plt.plot(mu, -(1/N)*np.log(normprob(mu)), lw=3, color='blue', label='LDT')\n",
    "plt.plot(mu, -(1/N)*np.log(normprob2(mu)), lw=3, color='black', label='CLT')\n",
    "\n",
    "plt.plot(mu, 0*mu, lw=1, color='black')\n",
    "plt.vlines(0, -0.01, 0.15, color='black', lw=1)\n",
    "\n",
    "plt.xlim(0, 0.99)\n",
    "plt.ylim(-0.01,0.15)\n",
    "\n",
    "plt.xlabel(r'$\\mu$', fontsize='25')\n",
    "plt.ylabel(r'$I(\\mu)$', fontsize='25')\n",
    "plt.tick_params(labelsize=20)\n",
    "plt.title(r'$\\beta J=0.9, N=100$', fontsize= 15, fontweight='bold')\n",
    "plt.legend(loc='upper center', prop={'size': 10})\n",
    "plt.savefig('/Users/κωτς/Desktop/image6.pdf', transparent=True, bbox_inches='tight')"
   ]
  },
  {
   "cell_type": "code",
   "execution_count": null,
   "metadata": {},
   "outputs": [],
   "source": []
  }
 ],
 "metadata": {
  "kernelspec": {
   "display_name": "Python 3 (ipykernel)",
   "language": "python",
   "name": "python3"
  },
  "language_info": {
   "codemirror_mode": {
    "name": "ipython",
    "version": 3
   },
   "file_extension": ".py",
   "mimetype": "text/x-python",
   "name": "python",
   "nbconvert_exporter": "python",
   "pygments_lexer": "ipython3",
   "version": "3.11.6"
  }
 },
 "nbformat": 4,
 "nbformat_minor": 4
}
